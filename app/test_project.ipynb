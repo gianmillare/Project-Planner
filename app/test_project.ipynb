{
 "cells": [
  {
   "cell_type": "code",
   "execution_count": 5,
   "metadata": {},
   "outputs": [],
   "source": [
    "import csv"
   ]
  },
  {
   "cell_type": "code",
   "execution_count": 10,
   "metadata": {},
   "outputs": [],
   "source": [
    "def read_tasks(planner):\n",
    "    tasks = {}\n",
    "    for row in csv.reader(open(planner, encoding='utf-8-sig')):\n",
    "        number = int(row[0])\n",
    "        title = row[1]\n",
    "        duration = float(row[2])\n",
    "        prerequisites = set(map(int, row[3].split()))\n",
    "        tasks[number] = (title, duration, prerequisites)\n",
    "    \n",
    "    return tasks"
   ]
  },
  {
   "cell_type": "code",
   "execution_count": 11,
   "metadata": {},
   "outputs": [
    {
     "data": {
      "text/plain": [
       "{1: ('Design game functionality', 2.0, set()),\n",
       " 2: ('Draw basic images', 1.0, {1}),\n",
       " 3: ('Break functionality into steps', 2.0, {1}),\n",
       " 4: ('Implement basic functionality', 5.0, {2, 3}),\n",
       " 5: ('Test and review', 2.0, {4}),\n",
       " 6: ('Draw better images', 3.0, {5}),\n",
       " 7: ('Implement advanced functionality', 7.0, {5}),\n",
       " 8: ('Test and review', 4.0, {6, 7}),\n",
       " 9: ('Release onto app store', 1.0, {8})}"
      ]
     },
     "execution_count": 11,
     "metadata": {},
     "output_type": "execute_result"
    }
   ],
   "source": [
    "read_tasks(\"../resources/planner.csv\")"
   ]
  },
  {
   "cell_type": "code",
   "execution_count": 12,
   "metadata": {},
   "outputs": [],
   "source": [
    "tasks = read_tasks(\"../resources/planner.csv\")"
   ]
  },
  {
   "cell_type": "code",
   "execution_count": 13,
   "metadata": {},
   "outputs": [
    {
     "data": {
      "text/plain": [
       "('Break functionality into steps', 2.0, {1})"
      ]
     },
     "execution_count": 13,
     "metadata": {},
     "output_type": "execute_result"
    }
   ],
   "source": [
    "tasks[3]"
   ]
  },
  {
   "cell_type": "code",
   "execution_count": null,
   "metadata": {},
   "outputs": [],
   "source": []
  }
 ],
 "metadata": {
  "kernelspec": {
   "display_name": "Python 3",
   "language": "python",
   "name": "python3"
  },
  "language_info": {
   "codemirror_mode": {
    "name": "ipython",
    "version": 3
   },
   "file_extension": ".py",
   "mimetype": "text/x-python",
   "name": "python",
   "nbconvert_exporter": "python",
   "pygments_lexer": "ipython3",
   "version": "3.7.4"
  }
 },
 "nbformat": 4,
 "nbformat_minor": 2
}
