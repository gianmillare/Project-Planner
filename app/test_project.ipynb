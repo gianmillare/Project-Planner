{
 "cells": [
  {
   "cell_type": "code",
   "execution_count": 56,
   "metadata": {},
   "outputs": [],
   "source": [
    "import csv\n",
    "\n",
    "from collections import namedtuple\n",
    "\n",
    "Task = namedtuple(\"Task\", [\"title\", \"duration\", \"prerequisites\"])"
   ]
  },
  {
   "cell_type": "code",
   "execution_count": 57,
   "metadata": {},
   "outputs": [],
   "source": [
    "def read_tasks(planner):\n",
    "    tasks = {}\n",
    "    for row in csv.reader(open(planner, encoding='utf-8-sig')):\n",
    "        number = int(row[0])\n",
    "        title = row[1]\n",
    "        duration = float(row[2])\n",
    "        prerequisites = set(map(int, row[3].split()))\n",
    "        tasks[number] = Task(title, duration, prerequisites)\n",
    "    \n",
    "    return tasks"
   ]
  },
  {
   "cell_type": "code",
   "execution_count": 58,
   "metadata": {},
   "outputs": [
    {
     "data": {
      "text/plain": [
       "{1: Task(title='Design game functionality', duration=2.0, prerequisites=set()),\n",
       " 2: Task(title='Draw basic images', duration=1.0, prerequisites={1}),\n",
       " 3: Task(title='Break functionality into steps', duration=2.0, prerequisites={1}),\n",
       " 4: Task(title='Implement basic functionality', duration=5.0, prerequisites={2, 3}),\n",
       " 5: Task(title='Test and review', duration=2.0, prerequisites={4}),\n",
       " 6: Task(title='Draw better images', duration=3.0, prerequisites={5}),\n",
       " 7: Task(title='Implement advanced functionality', duration=7.0, prerequisites={5}),\n",
       " 8: Task(title='Test and review', duration=4.0, prerequisites={6, 7}),\n",
       " 9: Task(title='Release onto app store', duration=1.0, prerequisites={8})}"
      ]
     },
     "execution_count": 58,
     "metadata": {},
     "output_type": "execute_result"
    }
   ],
   "source": [
    "tasks = read_tasks(\"../resources/planner.csv\")\n",
    "tasks"
   ]
  },
  {
   "cell_type": "code",
   "execution_count": 59,
   "metadata": {},
   "outputs": [],
   "source": [
    "def order_tasks(tasks):\n",
    "    \n",
    "    # Start the loop with all tasks marked as incomplete on day zero\n",
    "    incomplete = set(tasks)\n",
    "    completed = set()\n",
    "    start_days = {}\n",
    "    \n",
    "    # Begin the while and for loops to loop through all incomplete tasks\n",
    "    while incomplete:\n",
    "        for task_number in incomplete:\n",
    "            \n",
    "            # check to make sure the prerequisites are completed for the task\n",
    "            task = tasks[task_number]\n",
    "            if task.prerequisites.issubset(completed):\n",
    "                \n",
    "                # Create a loop to identify the day the task can be started\n",
    "                earliest_start_day = 0\n",
    "                for prereq_number in task.prerequisites:\n",
    "                    prereq_end_day = start_days[prereq_number] + tasks[prereq_number].duration\n",
    "                    \n",
    "                    # Once prereq is completed, the day the task is completed becomes the new earliest start day\n",
    "                    if prereq_end_day > earliest_start_day:\n",
    "                        earliest_start_day = prereq_end_day\n",
    "                \n",
    "                # Store the new earliest start day and mark the task as completed\n",
    "                start_days[task_number] = earliest_start_day\n",
    "                incomplete.remove(task_number)\n",
    "                completed.add(task_number)\n",
    "                break\n",
    "\n",
    "    return start_days"
   ]
  },
  {
   "cell_type": "code",
   "execution_count": 60,
   "metadata": {},
   "outputs": [
    {
     "data": {
      "text/plain": [
       "{1: Task(title='Design game functionality', duration=2.0, prerequisites=set()),\n",
       " 2: Task(title='Draw basic images', duration=1.0, prerequisites={1}),\n",
       " 3: Task(title='Break functionality into steps', duration=2.0, prerequisites={1}),\n",
       " 4: Task(title='Implement basic functionality', duration=5.0, prerequisites={2, 3}),\n",
       " 5: Task(title='Test and review', duration=2.0, prerequisites={4}),\n",
       " 6: Task(title='Draw better images', duration=3.0, prerequisites={5}),\n",
       " 7: Task(title='Implement advanced functionality', duration=7.0, prerequisites={5}),\n",
       " 8: Task(title='Test and review', duration=4.0, prerequisites={6, 7}),\n",
       " 9: Task(title='Release onto app store', duration=1.0, prerequisites={8})}"
      ]
     },
     "execution_count": 60,
     "metadata": {},
     "output_type": "execute_result"
    }
   ],
   "source": [
    "tasks"
   ]
  },
  {
   "cell_type": "code",
   "execution_count": 61,
   "metadata": {},
   "outputs": [
    {
     "data": {
      "text/plain": [
       "{1: 0, 2: 2.0, 3: 2.0, 4: 4.0, 5: 9.0, 6: 11.0, 7: 11.0, 8: 18.0, 9: 22.0}"
      ]
     },
     "execution_count": 61,
     "metadata": {},
     "output_type": "execute_result"
    }
   ],
   "source": [
    "order_tasks(tasks)"
   ]
  },
  {
   "cell_type": "code",
   "execution_count": null,
   "metadata": {},
   "outputs": [],
   "source": []
  }
 ],
 "metadata": {
  "kernelspec": {
   "display_name": "Python 3",
   "language": "python",
   "name": "python3"
  },
  "language_info": {
   "codemirror_mode": {
    "name": "ipython",
    "version": 3
   },
   "file_extension": ".py",
   "mimetype": "text/x-python",
   "name": "python",
   "nbconvert_exporter": "python",
   "pygments_lexer": "ipython3",
   "version": "3.7.4"
  }
 },
 "nbformat": 4,
 "nbformat_minor": 2
}
