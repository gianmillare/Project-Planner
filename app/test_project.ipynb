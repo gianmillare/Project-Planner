{
 "cells": [
  {
   "cell_type": "code",
   "execution_count": 1,
   "metadata": {},
   "outputs": [],
   "source": [
    "import csv"
   ]
  },
  {
   "cell_type": "code",
   "execution_count": 3,
   "metadata": {},
   "outputs": [],
   "source": [
    "def read_tasks(planner):\n",
    "    tasks = {}\n",
    "    for row in csv.reader(open(planner, encoding='utf-8-sig')):\n",
    "        number = row[0]\n",
    "        title = row[1]\n",
    "        duration = row[2]\n",
    "        prerequisites = row[3]\n",
    "        tasks[number] = (title, duration, prerequisites)\n",
    "    \n",
    "    return tasks"
   ]
  },
  {
   "cell_type": "code",
   "execution_count": 4,
   "metadata": {},
   "outputs": [
    {
     "data": {
      "text/plain": [
       "{'1': ('Design game functionality', '2', ''),\n",
       " '2': ('Draw basic images', '1', '1'),\n",
       " '3': ('Break functionality into steps', '2', '1'),\n",
       " '4': ('Implement basic functionality', '5', '2 3'),\n",
       " '5': ('Test and review', '2', '4'),\n",
       " '6': ('Draw better images', '3', '5'),\n",
       " '7': ('Implement advanced functionality', '7', '5'),\n",
       " '8': ('Test and review', '4', '6 7'),\n",
       " '9': ('Release onto app store', '1', '8')}"
      ]
     },
     "execution_count": 4,
     "metadata": {},
     "output_type": "execute_result"
    }
   ],
   "source": [
    "read_tasks(\"../resources/planner.csv\")"
   ]
  },
  {
   "cell_type": "code",
   "execution_count": null,
   "metadata": {},
   "outputs": [],
   "source": []
  }
 ],
 "metadata": {
  "kernelspec": {
   "display_name": "Python 3",
   "language": "python",
   "name": "python3"
  },
  "language_info": {
   "codemirror_mode": {
    "name": "ipython",
    "version": 3
   },
   "file_extension": ".py",
   "mimetype": "text/x-python",
   "name": "python",
   "nbconvert_exporter": "python",
   "pygments_lexer": "ipython3",
   "version": "3.7.4"
  }
 },
 "nbformat": 4,
 "nbformat_minor": 2
}
