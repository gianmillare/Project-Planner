{
 "cells": [
  {
   "cell_type": "code",
   "execution_count": 23,
   "metadata": {},
   "outputs": [],
   "source": [
    "import csv\n",
    "\n",
    "from collections import namedtuple\n",
    "\n",
    "Task = namedtuple(\"Task\", [\"title\", \"duration\", \"prerequisites\"])"
   ]
  },
  {
   "cell_type": "code",
   "execution_count": 24,
   "metadata": {},
   "outputs": [],
   "source": [
    "def read_tasks(planner):\n",
    "    tasks = {}\n",
    "    for row in csv.reader(open(planner, encoding='utf-8-sig')):\n",
    "        number = int(row[0])\n",
    "        title = row[1]\n",
    "        duration = float(row[2])\n",
    "        prerequisites = set(map(int, row[3].split()))\n",
    "        tasks[number] = Task(title, duration, prerequisites)\n",
    "    \n",
    "    return tasks"
   ]
  },
  {
   "cell_type": "code",
   "execution_count": 25,
   "metadata": {},
   "outputs": [
    {
     "data": {
      "text/plain": [
       "{1: Task(title='Design game functionality', duration=2.0, prerequisites=set()),\n",
       " 2: Task(title='Draw basic images', duration=1.0, prerequisites={1}),\n",
       " 3: Task(title='Break functionality into steps', duration=2.0, prerequisites={1}),\n",
       " 4: Task(title='Implement basic functionality', duration=5.0, prerequisites={2, 3}),\n",
       " 5: Task(title='Test and review', duration=2.0, prerequisites={4}),\n",
       " 6: Task(title='Draw better images', duration=3.0, prerequisites={5}),\n",
       " 7: Task(title='Implement advanced functionality', duration=7.0, prerequisites={5}),\n",
       " 8: Task(title='Test and review', duration=4.0, prerequisites={6, 7}),\n",
       " 9: Task(title='Release onto app store', duration=1.0, prerequisites={8})}"
      ]
     },
     "execution_count": 25,
     "metadata": {},
     "output_type": "execute_result"
    }
   ],
   "source": [
    "tasks = read_tasks(\"../resources/planner.csv\")\n",
    "tasks"
   ]
  },
  {
   "cell_type": "code",
   "execution_count": null,
   "metadata": {},
   "outputs": [],
   "source": []
  }
 ],
 "metadata": {
  "kernelspec": {
   "display_name": "Python 3",
   "language": "python",
   "name": "python3"
  },
  "language_info": {
   "codemirror_mode": {
    "name": "ipython",
    "version": 3
   },
   "file_extension": ".py",
   "mimetype": "text/x-python",
   "name": "python",
   "nbconvert_exporter": "python",
   "pygments_lexer": "ipython3",
   "version": "3.7.4"
  }
 },
 "nbformat": 4,
 "nbformat_minor": 2
}
